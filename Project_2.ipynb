{
  "nbformat": 4,
  "nbformat_minor": 0,
  "metadata": {
    "colab": {
      "name": "Project 2.ipynb",
      "provenance": [],
      "collapsed_sections": [
        "PaipqoIFfScQ",
        "WaAYB2f5OKmE",
        "va-BYkN3c-9N",
        "tfSyNXF9c-9O",
        "Kd7gXnKXc-9O",
        "5yi4l_gpc-9O",
        "qV9nF4tXc-9O",
        "8cjwQyjwc-9P",
        "AO33gmh_c-9P",
        "a48gpElKOmKG",
        "x0EptBnMbbwg",
        "u9RCiS87bkhn",
        "wV8MiKNRbkhn",
        "nl7Wcmumbkho",
        "EoylSACbbkho",
        "ITB4Ro27bkho",
        "eV6QiBHYbkho",
        "WrzXvaUvUK0z",
        "dYtPbVT2Vxw5",
        "2N1DGBs5Vzy-",
        "Sfrbe8pNV2F5",
        "b79dP4GzW5tR"
      ]
    },
    "kernelspec": {
      "name": "python3",
      "display_name": "Python 3"
    },
    "language_info": {
      "name": "python"
    }
  },
  "cells": [
    {
      "cell_type": "markdown",
      "source": [
        "# Import Statements and Method/Function Definitions"
      ],
      "metadata": {
        "id": "PaipqoIFfScQ"
      }
    },
    {
      "cell_type": "code",
      "execution_count": 1,
      "metadata": {
        "id": "voS_UGwidriP"
      },
      "outputs": [],
      "source": [
        "import numpy as np\n",
        "import pandas as pd\n",
        "from scipy import linalg\n",
        "import matplotlib.pyplot as plt\n",
        "from scipy.interpolate import interp1d\n",
        "from sklearn.ensemble import RandomForestRegressor\n",
        "from sklearn.model_selection import KFold, train_test_split as tts\n",
        "from sklearn.metrics import mean_squared_error as mse\n",
        "from sklearn.preprocessing import StandardScaler"
      ]
    },
    {
      "cell_type": "code",
      "source": [
        "def tricubic(x):\n",
        "  return np.where(np.abs(x)>1,0,70/81*(1-np.abs(x)**3)**3)"
      ],
      "metadata": {
        "id": "AwpUJxI0Nhw_"
      },
      "execution_count": 2,
      "outputs": []
    },
    {
      "cell_type": "code",
      "source": [
        "def Epanechnikov(x):\n",
        "  return np.where(np.abs(x)>1,0,3/4*(1-np.abs(x)**2)) "
      ],
      "metadata": {
        "id": "NY9dn0NCNi7i"
      },
      "execution_count": 3,
      "outputs": []
    },
    {
      "cell_type": "code",
      "source": [
        "def Quartic(x):\n",
        "  return np.where(np.abs(x)>1,0,15/16*(1-np.abs(x)**2)**2) "
      ],
      "metadata": {
        "id": "rbMFuglXNkV0"
      },
      "execution_count": 4,
      "outputs": []
    },
    {
      "cell_type": "code",
      "source": [
        "def lowess_reg(x, y, xnew, kern, tau):\n",
        "    n = len(x)\n",
        "    yest = np.zeros(n)\n",
        "    \n",
        "    w = np.array([kern((x - x[i])/(2*tau)) for i in range(n)])     \n",
        "    \n",
        "    for i in range(n):\n",
        "        weights = w[:, i]\n",
        "        b = np.array([np.sum(weights * y), np.sum(weights * y * x)])\n",
        "        A = np.array([[np.sum(weights), np.sum(weights * x)],\n",
        "                    [np.sum(weights * x), np.sum(weights * x * x)]])\n",
        "        theta, res, rnk, s = linalg.lstsq(A, b)\n",
        "        yest[i] = theta[0] + theta[1] * x[i] \n",
        "    f = interp1d(x, yest, fill_value='extrapolate')\n",
        "    return f(xnew)"
      ],
      "metadata": {
        "id": "f8SewFPmNlTx"
      },
      "execution_count": 5,
      "outputs": []
    },
    {
      "cell_type": "code",
      "source": [
        "def lowess_kern(x, y, kern, tau):\n",
        "\n",
        "    n = len(x)\n",
        "    yest = np.zeros(n)\n",
        "   \n",
        "    w = np.array([kern((x - x[i])/(2*tau)) for i in range(n)])     \n",
        "    \n",
        "    for i in range(n):\n",
        "        weights = w[:, i]\n",
        "        b = np.array([np.sum(weights * y), np.sum(weights * y * x)])\n",
        "        A = np.array([[np.sum(weights), np.sum(weights * x)],\n",
        "                    [np.sum(weights * x), np.sum(weights * x * x)]])\n",
        "        theta, res, rnk, s = linalg.lstsq(A, b)\n",
        "        yest[i] = theta[0] + theta[1] * x[i] \n",
        "\n",
        "    return yest"
      ],
      "metadata": {
        "id": "aBcB8Su5Nmh9"
      },
      "execution_count": 6,
      "outputs": []
    },
    {
      "cell_type": "code",
      "source": [
        "rf = RandomForestRegressor(n_estimators=100,max_depth=3,random_state=123)"
      ],
      "metadata": {
        "id": "zLQ1JFCVNzYM"
      },
      "execution_count": 7,
      "outputs": []
    },
    {
      "cell_type": "code",
      "source": [
        "rf2 = RandomForestRegressor(n_estimators=1000,max_depth=3,random_state=123)"
      ],
      "metadata": {
        "id": "qDP8NGwaN2fN"
      },
      "execution_count": 8,
      "outputs": []
    },
    {
      "cell_type": "code",
      "source": [
        "rf3 = RandomForestRegressor(n_estimators=1000,max_depth=5,random_state=123)"
      ],
      "metadata": {
        "id": "pCmv23LTN5ez"
      },
      "execution_count": 9,
      "outputs": []
    },
    {
      "cell_type": "code",
      "source": [
        "rf4 = RandomForestRegressor(n_estimators=100,max_depth=5,random_state=123)"
      ],
      "metadata": {
        "id": "t9ydGzy2N7yO"
      },
      "execution_count": 10,
      "outputs": []
    },
    {
      "cell_type": "code",
      "source": [
        "scale = StandardScaler()"
      ],
      "metadata": {
        "id": "g8NWE_zWN968"
      },
      "execution_count": 11,
      "outputs": []
    },
    {
      "cell_type": "markdown",
      "source": [
        "# Boston Housing Prices Data"
      ],
      "metadata": {
        "id": "WaAYB2f5OKmE"
      }
    },
    {
      "cell_type": "code",
      "source": [
        "boston_data = pd.read_csv(\"Boston Housing Prices.csv\")"
      ],
      "metadata": {
        "id": "G1mXHiMoOO6k"
      },
      "execution_count": 15,
      "outputs": []
    },
    {
      "cell_type": "code",
      "source": [
        "x = boston_data[\"rooms\"].values\n",
        "y = boston_data[\"cmedv\"].values"
      ],
      "metadata": {
        "id": "tmuOHUQNO6JT"
      },
      "execution_count": 16,
      "outputs": []
    },
    {
      "cell_type": "code",
      "source": [
        "kf = KFold(n_splits=10,shuffle=True,random_state=410)\n",
        "mse_lwr = []\n",
        "mse_rf = []"
      ],
      "metadata": {
        "id": "NC7pQ99NO6OH"
      },
      "execution_count": 17,
      "outputs": []
    },
    {
      "cell_type": "markdown",
      "source": [
        "## Testing Kernels, tau = 0.01\n",
        "### Best kernel was Epanechnikov with an MSE of 43.81"
      ],
      "metadata": {
        "id": "va-BYkN3c-9N"
      }
    },
    {
      "cell_type": "code",
      "source": [
        "kf = KFold(n_splits=10,shuffle=True,random_state=410)\n",
        "mse_tri_b1 = []\n",
        "mse_epa_b1 = []\n",
        "mse_quart_b1 = []"
      ],
      "metadata": {
        "id": "HptjRuZ3c-9N"
      },
      "execution_count": 18,
      "outputs": []
    },
    {
      "cell_type": "code",
      "source": [
        "for idxtrain, idxtest in kf.split(x):\n",
        "  ytrain = y[idxtrain]\n",
        "  xtrain = x[idxtrain]\n",
        "  xtrain = scale.fit_transform(xtrain.reshape(-1,1))\n",
        "  ytest = y[idxtest]\n",
        "  xtest = x[idxtest]\n",
        "  xtest = scale.transform(xtest.reshape(-1,1))\n",
        "  yhat_tri = lowess_reg(xtrain.ravel(), ytrain, xtest.ravel(), tricubic, 0.01)\n",
        "  yhat_epa = lowess_reg(xtrain.ravel(), ytrain, xtest.ravel(), Epanechnikov, 0.01)\n",
        "  yhat_quart = lowess_reg(xtrain.ravel(), ytrain, xtest.ravel(), Quartic, 0.01)\n",
        "  mse_tri_b1.append(mse(ytest,yhat_tri))\n",
        "  mse_epa_b1.append(mse(ytest,yhat_epa))\n",
        "  mse_quart_b1.append(mse(ytest,yhat_quart))\n",
        "print(\"The MSE for LOWESS with the tricubic kernel is: \" + str(np.mean(mse_tri_b1)))\n",
        "print(\"The MSE for LOWESS with the Epanechnikov kernel is: \" + str(np.mean(mse_epa_b1)))\n",
        "print(\"The MSE for LOWESS with the quartic kernel is: \" + str(np.mean(mse_quart_b1)))"
      ],
      "metadata": {
        "colab": {
          "base_uri": "https://localhost:8080/"
        },
        "id": "fl9WVQmgc-9N",
        "outputId": "f7670ee2-b044-47e2-94aa-4df3a9b0104a"
      },
      "execution_count": 19,
      "outputs": [
        {
          "output_type": "stream",
          "name": "stdout",
          "text": [
            "The MSE for LOWESS with the tricubic kernel is: 45.43107355393225\n",
            "The MSE for LOWESS with the Epanechnikov kernel is: 43.809283109365026\n",
            "The MSE for LOWESS with the quartic kernel is: 45.3144949211256\n"
          ]
        }
      ]
    },
    {
      "cell_type": "markdown",
      "source": [
        "Best result was the Epanechnikov kernel."
      ],
      "metadata": {
        "id": "wcT6oIa1gnV7"
      }
    },
    {
      "cell_type": "markdown",
      "source": [
        "## Testing Kernels, tau = 0.05\n",
        "### Best kernel was Epanechnikov with an MSE of 36.45"
      ],
      "metadata": {
        "id": "tfSyNXF9c-9O"
      }
    },
    {
      "cell_type": "code",
      "source": [
        "kf = KFold(n_splits=10,shuffle=True,random_state=410)\n",
        "mse_tri_b2 = []\n",
        "mse_epa_b2 = []\n",
        "mse_quart_b2 = []"
      ],
      "metadata": {
        "id": "spffZ9OEc-9O"
      },
      "execution_count": 20,
      "outputs": []
    },
    {
      "cell_type": "code",
      "source": [
        "for idxtrain, idxtest in kf.split(x):\n",
        "  ytrain = y[idxtrain]\n",
        "  xtrain = x[idxtrain]\n",
        "  xtrain = scale.fit_transform(xtrain.reshape(-1,1))\n",
        "  ytest = y[idxtest]\n",
        "  xtest = x[idxtest]\n",
        "  xtest = scale.transform(xtest.reshape(-1,1))\n",
        "  yhat_tri = lowess_reg(xtrain.ravel(), ytrain, xtest.ravel(), tricubic, 0.05)\n",
        "  yhat_epa = lowess_reg(xtrain.ravel(), ytrain, xtest.ravel(), Epanechnikov, 0.05)\n",
        "  yhat_quart = lowess_reg(xtrain.ravel(), ytrain, xtest.ravel(), Quartic, 0.05)\n",
        "  mse_tri_b2.append(mse(ytest,yhat_tri))\n",
        "  mse_epa_b2.append(mse(ytest,yhat_epa))\n",
        "  mse_quart_b2.append(mse(ytest,yhat_quart))\n",
        "print(\"The MSE for LOWESS with the tricubic kernel is: \" + str(np.mean(mse_tri_b2)))\n",
        "print(\"The MSE for LOWESS with the Epanechnikov kernel is: \" + str(np.mean(mse_epa_b2)))\n",
        "print(\"The MSE for LOWESS with the quartic kernel is: \" + str(np.mean(mse_quart_b2)))"
      ],
      "metadata": {
        "colab": {
          "base_uri": "https://localhost:8080/"
        },
        "id": "lVb-jUsmc-9O",
        "outputId": "9632153f-5b09-4578-a8e7-6ca4bb851af7"
      },
      "execution_count": 21,
      "outputs": [
        {
          "output_type": "stream",
          "name": "stdout",
          "text": [
            "The MSE for LOWESS with the tricubic kernel is: 37.12483107475168\n",
            "The MSE for LOWESS with the Epanechnikov kernel is: 36.44728316493236\n",
            "The MSE for LOWESS with the quartic kernel is: 37.09404229251549\n"
          ]
        }
      ]
    },
    {
      "cell_type": "markdown",
      "source": [
        "Best result was the Epanechnikov kernel."
      ],
      "metadata": {
        "id": "K-MbpTVmgtf3"
      }
    },
    {
      "cell_type": "markdown",
      "source": [
        "## Testing Kernels, tau = 0.1\n",
        "### Best kernel was tricubic kernel with an MSE of 35.44"
      ],
      "metadata": {
        "id": "Kd7gXnKXc-9O"
      }
    },
    {
      "cell_type": "code",
      "source": [
        "kf = KFold(n_splits=10,shuffle=True,random_state=410)\n",
        "mse_tri_b3 = []\n",
        "mse_epa_b3 = []\n",
        "mse_quart_b3 = []"
      ],
      "metadata": {
        "id": "Cz-skEIHc-9O"
      },
      "execution_count": 24,
      "outputs": []
    },
    {
      "cell_type": "code",
      "source": [
        "for idxtrain, idxtest in kf.split(x):\n",
        "  ytrain = y[idxtrain]\n",
        "  xtrain = x[idxtrain]\n",
        "  xtrain = scale.fit_transform(xtrain.reshape(-1,1))\n",
        "  ytest = y[idxtest]\n",
        "  xtest = x[idxtest]\n",
        "  xtest = scale.transform(xtest.reshape(-1,1))\n",
        "  yhat_tri = lowess_reg(xtrain.ravel(), ytrain, xtest.ravel(), tricubic, 0.1)\n",
        "  yhat_epa = lowess_reg(xtrain.ravel(), ytrain, xtest.ravel(), Epanechnikov, 0.1)\n",
        "  yhat_quart = lowess_reg(xtrain.ravel(), ytrain, xtest.ravel(), Quartic, 0.1)\n",
        "  mse_tri_b3.append(mse(ytest,yhat_tri))\n",
        "  mse_epa_b3.append(mse(ytest,yhat_epa))\n",
        "  mse_quart_b3.append(mse(ytest,yhat_quart))\n",
        "print(\"The MSE for LOWESS with the tricubic kernel is: \" + str(np.mean(mse_tri_b3)))\n",
        "print(\"The MSE for LOWESS with the Epanechnikov kernel is: \" + str(np.mean(mse_epa_b3)))\n",
        "print(\"The MSE for LOWESS with the quartic kernel is: \" + str(np.mean(mse_quart_b3)))"
      ],
      "metadata": {
        "colab": {
          "base_uri": "https://localhost:8080/"
        },
        "id": "sx7Ry00pc-9O",
        "outputId": "79af8a8a-e44a-4f1c-a087-1ef979d31027"
      },
      "execution_count": 25,
      "outputs": [
        {
          "output_type": "stream",
          "name": "stdout",
          "text": [
            "The MSE for LOWESS with the tricubic kernel is: 35.44061356471881\n",
            "The MSE for LOWESS with the Epanechnikov kernel is: 35.53605299888907\n",
            "The MSE for LOWESS with the quartic kernel is: 35.47758360351477\n"
          ]
        }
      ]
    },
    {
      "cell_type": "markdown",
      "source": [
        "Best result was tricubic."
      ],
      "metadata": {
        "id": "5qlCiPvvg29b"
      }
    },
    {
      "cell_type": "markdown",
      "source": [
        "## Testing Kernels, tau = 0.5\n",
        "### Best kernel was quartic with an MSE of 36.92"
      ],
      "metadata": {
        "id": "5yi4l_gpc-9O"
      }
    },
    {
      "cell_type": "code",
      "source": [
        "kf = KFold(n_splits=10,shuffle=True,random_state=410)\n",
        "mse_tri_b4 = []\n",
        "mse_epa_b4 = []\n",
        "mse_quart_b4 = []"
      ],
      "metadata": {
        "id": "x_T1buGIc-9O"
      },
      "execution_count": 28,
      "outputs": []
    },
    {
      "cell_type": "code",
      "source": [
        "for idxtrain, idxtest in kf.split(x):\n",
        "  ytrain = y[idxtrain]\n",
        "  xtrain = x[idxtrain]\n",
        "  xtrain = scale.fit_transform(xtrain.reshape(-1,1))\n",
        "  ytest = y[idxtest]\n",
        "  xtest = x[idxtest]\n",
        "  xtest = scale.transform(xtest.reshape(-1,1))\n",
        "  yhat_tri = lowess_reg(xtrain.ravel(), ytrain, xtest.ravel(), tricubic, 0.5)\n",
        "  yhat_epa = lowess_reg(xtrain.ravel(), ytrain, xtest.ravel(), Epanechnikov, 0.5)\n",
        "  yhat_quart = lowess_reg(xtrain.ravel(), ytrain, xtest.ravel(), Quartic, 0.5)\n",
        "  mse_tri_b4.append(mse(ytest,yhat_tri))\n",
        "  mse_epa_b4.append(mse(ytest,yhat_epa))\n",
        "  mse_quart_b4.append(mse(ytest,yhat_quart))\n",
        "print(\"The MSE for LOWESS with the tricubic kernel is: \" + str(np.mean(mse_tri_b4)))\n",
        "print(\"The MSE for LOWESS with the Epanechnikov kernel is: \" + str(np.mean(mse_epa_b4)))\n",
        "print(\"The MSE for LOWESS with the quartic kernel is: \" + str(np.mean(mse_quart_b4)))"
      ],
      "metadata": {
        "colab": {
          "base_uri": "https://localhost:8080/"
        },
        "id": "WIreb0VPc-9O",
        "outputId": "8d09aa23-4ceb-442f-caa9-034d7e16d862"
      },
      "execution_count": 29,
      "outputs": [
        {
          "output_type": "stream",
          "name": "stdout",
          "text": [
            "The MSE for LOWESS with the tricubic kernel is: 36.9777520238979\n",
            "The MSE for LOWESS with the Epanechnikov kernel is: 37.12131906673285\n",
            "The MSE for LOWESS with the quartic kernel is: 36.924548944943005\n"
          ]
        }
      ]
    },
    {
      "cell_type": "markdown",
      "source": [
        "Best result was quartic."
      ],
      "metadata": {
        "id": "MBU7wTybg-Zz"
      }
    },
    {
      "cell_type": "markdown",
      "source": [
        "## Testing Random Forests"
      ],
      "metadata": {
        "id": "qV9nF4tXc-9O"
      }
    },
    {
      "cell_type": "code",
      "source": [
        "kf = KFold(n_splits=10,shuffle=True,random_state=410)\n",
        "mse_100_3 = []\n",
        "mse_100_5 = []\n",
        "mse_1000_3 = []\n",
        "mse_1000_5 = []"
      ],
      "metadata": {
        "id": "1vFK5X2lc-9O"
      },
      "execution_count": 30,
      "outputs": []
    },
    {
      "cell_type": "code",
      "source": [
        "for idxtrain,idxtest in kf.split(x):\n",
        "  ytrain = y[idxtrain]\n",
        "  xtrain = x[idxtrain]\n",
        "  xtrain = scale.fit_transform(xtrain.reshape(-1,1))\n",
        "  ytest = y[idxtest]\n",
        "  xtest = x[idxtest]\n",
        "  xtest = scale.transform(xtest.reshape(-1,1))\n",
        "  rf.fit(xtrain,ytrain)\n",
        "  rf2.fit(xtrain,ytrain)\n",
        "  rf3.fit(xtrain,ytrain)\n",
        "  rf4.fit(xtrain,ytrain)\n",
        "  yhat_rf_1003 = rf.predict(xtest)\n",
        "  yhat_rf_10003 = rf2.predict(xtest)\n",
        "  yhat_rf_10005 = rf3.predict(xtest)\n",
        "  yhat_rf_1005 = rf4.predict(xtest)\n",
        "  mse_100_3.append(mse(ytest,yhat_rf_1003))\n",
        "  mse_1000_3.append(mse(ytest,yhat_rf_10003))\n",
        "  mse_1000_5.append(mse(ytest,yhat_rf_10005))\n",
        "  mse_100_5.append(mse(ytest,yhat_rf_1005))\n",
        "print(\"The MSE for Random Forest with 100 trees and depth of 3: \" + str(np.mean(mse_100_3)))\n",
        "print(\"The MSE for Random Forest with 1000 trees and depth of 3: \" + str(np.mean(mse_1000_3)))\n",
        "print(\"The MSE for Random Forest with 100 trees and depth of 5: \" + str(np.mean(mse_100_5)))\n",
        "print(\"The MSE for Random Forest with 1000 trees and depth of 5: \" + str(np.mean(mse_1000_5)))"
      ],
      "metadata": {
        "colab": {
          "base_uri": "https://localhost:8080/"
        },
        "id": "C53KwrNgc-9P",
        "outputId": "e79c832b-ecea-4f06-ace2-2c050beea832"
      },
      "execution_count": 31,
      "outputs": [
        {
          "output_type": "stream",
          "name": "stdout",
          "text": [
            "The MSE for Random Forest with 100 trees and depth of 3: 35.99815586185197\n",
            "The MSE for Random Forest with 1000 trees and depth of 3: 35.87895228710361\n",
            "The MSE for Random Forest with 100 trees and depth of 5: 38.33351554015932\n",
            "The MSE for Random Forest with 1000 trees and depth of 5: 38.000773576478416\n"
          ]
        }
      ]
    },
    {
      "cell_type": "markdown",
      "source": [
        "Best result was a forest of 1000 trees with a depth of 3."
      ],
      "metadata": {
        "id": "EXxqhvizhjWg"
      }
    },
    {
      "cell_type": "markdown",
      "source": [
        "## Testing Kernel vs. Random Forest\n",
        "### Locally Weighted Regression won with an MSE  of 35.44"
      ],
      "metadata": {
        "id": "8cjwQyjwc-9P"
      }
    },
    {
      "cell_type": "code",
      "source": [
        "kf = KFold(n_splits=10,shuffle=True,random_state=410)\n",
        "mse_lwr = []\n",
        "mse_rf = []"
      ],
      "metadata": {
        "id": "L6LlS2cwc-9P"
      },
      "execution_count": 32,
      "outputs": []
    },
    {
      "cell_type": "code",
      "source": [
        "for idxtrain,idxtest in kf.split(x):\n",
        "  ytrain = y[idxtrain]\n",
        "  xtrain = x[idxtrain]\n",
        "  xtrain = scale.fit_transform(xtrain.reshape(-1,1))\n",
        "  ytest = y[idxtest]\n",
        "  xtest = x[idxtest]\n",
        "  xtest = scale.transform(xtest.reshape(-1,1))\n",
        "  yhat_lwr = lowess_reg(xtrain.ravel(), ytrain, xtest.ravel(), tricubic, 0.1)\n",
        "  rf2.fit(xtrain,ytrain)\n",
        "  yhat_rf = rf2.predict(xtest)\n",
        "  mse_lwr.append(mse(ytest,yhat_lwr))\n",
        "  mse_rf.append(mse(ytest,yhat_rf))\n",
        "print(\"The MSE for Random Forest is: \" + str(np.mean(mse_rf)))\n",
        "print(\"The MSE for Locally Weighted Regression is: \" + str(np.mean(mse_lwr)))"
      ],
      "metadata": {
        "colab": {
          "base_uri": "https://localhost:8080/"
        },
        "id": "1T1QUyN4c-9P",
        "outputId": "657acb01-dfbb-403e-e6a7-096aafcc1322"
      },
      "execution_count": 33,
      "outputs": [
        {
          "output_type": "stream",
          "name": "stdout",
          "text": [
            "The MSE for Random Forest is: 35.87895228710361\n",
            "The MSE for Locally Weighted Regression is: 35.44061356471881\n"
          ]
        }
      ]
    },
    {
      "cell_type": "markdown",
      "source": [
        "Best result is LOWESS"
      ],
      "metadata": {
        "id": "yhx7i0xJjZm7"
      }
    },
    {
      "cell_type": "markdown",
      "source": [
        "## Plot"
      ],
      "metadata": {
        "id": "AO33gmh_c-9P"
      }
    },
    {
      "cell_type": "code",
      "source": [
        "xtrain, xtest, ytrain, ytest = tts(x.reshape(-1,1),y,test_size=0.25,random_state=123)"
      ],
      "metadata": {
        "id": "pcovAYIWc-9P"
      },
      "execution_count": 70,
      "outputs": []
    },
    {
      "cell_type": "code",
      "source": [
        "rf2.fit(xtrain,ytrain)\n",
        "yhat = rf2.predict(xtest)"
      ],
      "metadata": {
        "id": "cVmhqyFWc-9P"
      },
      "execution_count": 71,
      "outputs": []
    },
    {
      "cell_type": "code",
      "source": [
        "M = np.column_stack([xtest,yhat])\n",
        "M = M[np.argsort(M[:,0])]"
      ],
      "metadata": {
        "id": "v37gdl8-c-9R"
      },
      "execution_count": 72,
      "outputs": []
    },
    {
      "cell_type": "code",
      "source": [
        "ytrain = ytrain.reshape(len(ytrain),)\n",
        "ytest = ytest.reshape(len(ytest),)"
      ],
      "metadata": {
        "id": "zkAAx4rHc-9R"
      },
      "execution_count": 73,
      "outputs": []
    },
    {
      "cell_type": "code",
      "source": [
        "dat = np.concatenate([xtrain,ytrain.reshape(-1,1)], axis=1)\n",
        "\n",
        "dat = dat[np.argsort(dat[:, 0])]\n",
        "\n",
        "dat_test = np.concatenate([xtest,ytest.reshape(-1,1)], axis=1)\n",
        "dat_test = dat_test[np.argsort(dat_test[:, 0])]"
      ],
      "metadata": {
        "id": "F8IQPOq0c-9R"
      },
      "execution_count": 74,
      "outputs": []
    },
    {
      "cell_type": "code",
      "source": [
        "yhat_lowess = lowess_kern(dat[:,0],dat[:,1],tricubic,0.1)"
      ],
      "metadata": {
        "id": "-bFxGdScc-9R"
      },
      "execution_count": 75,
      "outputs": []
    },
    {
      "cell_type": "code",
      "source": [
        "datb = np.concatenate([dat[:,0].reshape(-1,1),yhat_lowess.reshape(-1,1)], axis=1)"
      ],
      "metadata": {
        "id": "77PSIeHic-9R"
      },
      "execution_count": 76,
      "outputs": []
    },
    {
      "cell_type": "code",
      "source": [
        "f = interp1d(datb[:,0], datb[:,1],fill_value='extrapolate')\n",
        "\n",
        "yhat2 = f(dat_test[:,0])"
      ],
      "metadata": {
        "id": "fS8GcbhFc-9R"
      },
      "execution_count": 77,
      "outputs": []
    },
    {
      "cell_type": "code",
      "source": [
        "fig, ax = plt.subplots(figsize=(10,8))\n",
        "ax.set_xlim(3, 9)\n",
        "ax.set_ylim(0, 51)\n",
        "ax.scatter(x = boston_data['rooms'], y = boston_data['cmedv'],s=25)\n",
        "ax.plot(dat_test[:,0], yhat2, color='orange',lw=3)\n",
        "ax.plot(M[:,0], M[:,1], color='yellow',lw=3)\n",
        "ax.set_xlabel('Number of Rooms',fontsize=16,color='Darkgreen')\n",
        "ax.set_ylabel('House Price (Tens of Thousands of Dollars)',fontsize=16,color='Darkgreen')\n",
        "ax.set_title('Boston Housing Prices',fontsize=16,color='purple')\n",
        "ax.grid(b=True,which='major', color ='grey', linestyle='-', alpha=0.8)\n",
        "ax.grid(b=True,which='minor', color ='grey', linestyle='--', alpha=0.2)\n",
        "ax.minorticks_on()"
      ],
      "metadata": {
        "colab": {
          "base_uri": "https://localhost:8080/",
          "height": 520
        },
        "id": "fkKHdbyxc-9R",
        "outputId": "9f78990d-c503-474e-8f89-9fb6a2ccb7b9"
      },
      "execution_count": 78,
      "outputs": [
        {
          "output_type": "display_data",
          "data": {
            "image/png": "[encoded data removed]",
            "text/plain": [
              "<Figure size 720x576 with 1 Axes>"
            ]
          },
          "metadata": {
            "needs_background": "light"
          }
        }
      ]
    },
    {
      "cell_type": "code",
      "source": [
        "# See if the xtest, ytest part is better\n",
        "plt.scatter(xtest,ytest,color='blue',alpha=0.5)\n",
        "plt.plot(M[:,0],M[:,1],color='red',lw=2)"
      ],
      "metadata": {
        "id": "O2yWR7V7c-9R"
      },
      "execution_count": null,
      "outputs": []
    },
    {
      "cell_type": "markdown",
      "source": [
        "# Cars Data"
      ],
      "metadata": {
        "id": "a48gpElKOmKG"
      }
    },
    {
      "cell_type": "code",
      "source": [
        "cars_data = pd.read_csv(\"cars.csv\")"
      ],
      "metadata": {
        "id": "iIN4BtrSOnSh"
      },
      "execution_count": 44,
      "outputs": []
    },
    {
      "cell_type": "code",
      "source": [
        "x_2 = cars_data['WGT'].values\n",
        "y_2 = cars_data['MPG'].values"
      ],
      "metadata": {
        "id": "juHmJSuJO2p5"
      },
      "execution_count": 45,
      "outputs": []
    },
    {
      "cell_type": "markdown",
      "source": [
        "## Testing Kernels, tau = 0.01\n",
        "### Best kernel was Epanechnikov with an MSE of 24.32"
      ],
      "metadata": {
        "id": "x0EptBnMbbwg"
      }
    },
    {
      "cell_type": "code",
      "source": [
        "kf = KFold(n_splits=10,shuffle=True,random_state=410)\n",
        "mse_tri_c1 = []\n",
        "mse_epa_c1 = []\n",
        "mse_quart_c1 = []"
      ],
      "metadata": {
        "id": "jrkGwoofbkhm"
      },
      "execution_count": 46,
      "outputs": []
    },
    {
      "cell_type": "code",
      "source": [
        "for idxtrain, idxtest in kf.split(x_2):\n",
        "  y2train = y_2[idxtrain]\n",
        "  x2train = x_2[idxtrain]\n",
        "  x2train = scale.fit_transform(x2train.reshape(-1,1))\n",
        "  y2test = y_2[idxtest]\n",
        "  x2test = x_2[idxtest]\n",
        "  x2test = scale.transform(x2test.reshape(-1,1))\n",
        "  yhat_tri = lowess_reg(x2train.ravel(), y2train, x2test.ravel(), tricubic, 0.01)\n",
        "  yhat_epa = lowess_reg(x2train.ravel(), y2train, x2test.ravel(), Epanechnikov, 0.01)\n",
        "  yhat_quart = lowess_reg(x2train.ravel(), y2train, x2test.ravel(), Quartic, 0.01)\n",
        "  mse_tri_c1.append(mse(y2test,yhat_tri))\n",
        "  mse_epa_c1.append(mse(y2test,yhat_epa))\n",
        "  mse_quart_c1.append(mse(y2test,yhat_quart))\n",
        "print(\"The MSE for LOWESS with the tricubic kernel is: \" + str(np.mean(mse_tri_c1)))\n",
        "print(\"The MSE for LOWESS with the Epanechnikov kernel is: \" + str(np.mean(mse_epa_c1)))\n",
        "print(\"The MSE for LOWESS with the quartic kernel is: \" + str(np.mean(mse_quart_c1)))"
      ],
      "metadata": {
        "colab": {
          "base_uri": "https://localhost:8080/"
        },
        "id": "L506xpS-bkhn",
        "outputId": "e96cfc89-cfd2-408d-91f8-fdefd3cb4db7"
      },
      "execution_count": 47,
      "outputs": [
        {
          "output_type": "stream",
          "name": "stdout",
          "text": [
            "The MSE for LOWESS with the tricubic kernel is: 24.577887196960564\n",
            "The MSE for LOWESS with the Epanechnikov kernel is: 24.31770096710489\n",
            "The MSE for LOWESS with the quartic kernel is: 24.492738385672084\n"
          ]
        }
      ]
    },
    {
      "cell_type": "markdown",
      "source": [
        "Best result was Epanechnikov."
      ],
      "metadata": {
        "id": "OC8U6jqYkT0l"
      }
    },
    {
      "cell_type": "markdown",
      "source": [
        "## Testing Kernels, tau = 0.05\n",
        "### Best kernel was Epanechnikov with an MSE of 18.48"
      ],
      "metadata": {
        "id": "u9RCiS87bkhn"
      }
    },
    {
      "cell_type": "code",
      "source": [
        "kf = KFold(n_splits=10,shuffle=True,random_state=410)\n",
        "mse_tri_c2 = []\n",
        "mse_epa_c2 = []\n",
        "mse_quart_c2 = []"
      ],
      "metadata": {
        "id": "VQrf4ofvbkhn"
      },
      "execution_count": 48,
      "outputs": []
    },
    {
      "cell_type": "code",
      "source": [
        "for idxtrain, idxtest in kf.split(x_2):\n",
        "  y2train = y_2[idxtrain]\n",
        "  x2train = x_2[idxtrain]\n",
        "  x2train = scale.fit_transform(x2train.reshape(-1,1))\n",
        "  y2test = y_2[idxtest]\n",
        "  x2test = x_2[idxtest]\n",
        "  x2test = scale.transform(x2test.reshape(-1,1))\n",
        "  yhat_tri = lowess_reg(x2train.ravel(), y2train, x2test.ravel(), tricubic, 0.05)\n",
        "  yhat_epa = lowess_reg(x2train.ravel(), y2train, x2test.ravel(), Epanechnikov, 0.05)\n",
        "  yhat_quart = lowess_reg(x2train.ravel(), y2train, x2test.ravel(), Quartic, 0.05)\n",
        "  mse_tri_c2.append(mse(y2test,yhat_tri))\n",
        "  mse_epa_c2.append(mse(y2test,yhat_epa))\n",
        "  mse_quart_c2.append(mse(y2test,yhat_quart))\n",
        "print(\"The MSE for LOWESS with the tricubic kernel is: \" + str(np.mean(mse_tri_c2)))\n",
        "print(\"The MSE for LOWESS with the Epanechnikov kernel is: \" + str(np.mean(mse_epa_c2)))\n",
        "print(\"The MSE for LOWESS with the quartic kernel is: \" + str(np.mean(mse_quart_c2)))"
      ],
      "metadata": {
        "colab": {
          "base_uri": "https://localhost:8080/"
        },
        "id": "dy6rB2twbkhn",
        "outputId": "2c30b2e0-9930-4359-bee6-7dfe4ef0186c"
      },
      "execution_count": 49,
      "outputs": [
        {
          "output_type": "stream",
          "name": "stdout",
          "text": [
            "The MSE for LOWESS with the tricubic kernel is: 18.813999140430287\n",
            "The MSE for LOWESS with the Epanechnikov kernel is: 18.48053295517476\n",
            "The MSE for LOWESS with the quartic kernel is: 18.81908789744631\n"
          ]
        }
      ]
    },
    {
      "cell_type": "markdown",
      "source": [
        "Best result was Epanechnikov."
      ],
      "metadata": {
        "id": "bH9OZBC7kjC8"
      }
    },
    {
      "cell_type": "markdown",
      "source": [
        "## Testing Kernels, tau = 0.1\n",
        "### Best kernel was Epanechnikov with an MSE of 17.81"
      ],
      "metadata": {
        "id": "wV8MiKNRbkhn"
      }
    },
    {
      "cell_type": "code",
      "source": [
        "kf = KFold(n_splits=10,shuffle=True,random_state=410)\n",
        "mse_tri_c3 = []\n",
        "mse_epa_c3 = []\n",
        "mse_quart_c3 = []"
      ],
      "metadata": {
        "id": "QeukGqYkbkhn"
      },
      "execution_count": 50,
      "outputs": []
    },
    {
      "cell_type": "code",
      "source": [
        "for idxtrain, idxtest in kf.split(x_2):\n",
        "  y2train = y_2[idxtrain]\n",
        "  x2train = x_2[idxtrain]\n",
        "  x2train = scale.fit_transform(x2train.reshape(-1,1))\n",
        "  y2test = y_2[idxtest]\n",
        "  x2test = x_2[idxtest]\n",
        "  x2test = scale.transform(x2test.reshape(-1,1))\n",
        "  yhat_tri = lowess_reg(x2train.ravel(), y2train, x2test.ravel(), tricubic, 0.1)\n",
        "  yhat_epa = lowess_reg(x2train.ravel(), y2train, x2test.ravel(), Epanechnikov, 0.1)\n",
        "  yhat_quart = lowess_reg(x2train.ravel(), y2train, x2test.ravel(), Quartic, 0.1)\n",
        "  mse_tri_c3.append(mse(y2test,yhat_tri))\n",
        "  mse_epa_c3.append(mse(y2test,yhat_epa))\n",
        "  mse_quart_c3.append(mse(y2test,yhat_quart))\n",
        "print(\"The MSE for LOWESS with the tricubic kernel is: \" + str(np.mean(mse_tri_c3)))\n",
        "print(\"The MSE for LOWESS with the Epanechnikov kernel is: \" + str(np.mean(mse_epa_c3)))\n",
        "print(\"The MSE for LOWESS with the quartic kernel is: \" + str(np.mean(mse_quart_c3)))"
      ],
      "metadata": {
        "colab": {
          "base_uri": "https://localhost:8080/"
        },
        "id": "CmXE0Y7Cbkhn",
        "outputId": "3626f295-2064-46e4-9575-fe385083af31"
      },
      "execution_count": 51,
      "outputs": [
        {
          "output_type": "stream",
          "name": "stdout",
          "text": [
            "The MSE for LOWESS with the tricubic kernel is: 17.864397104281963\n",
            "The MSE for LOWESS with the Epanechnikov kernel is: 17.81189365251738\n",
            "The MSE for LOWESS with the quartic kernel is: 17.893133453217505\n"
          ]
        }
      ]
    },
    {
      "cell_type": "markdown",
      "source": [
        "Best result was Epanechnikov."
      ],
      "metadata": {
        "id": "9nLELc1fktDW"
      }
    },
    {
      "cell_type": "markdown",
      "source": [
        "## Testing Kernels, tau = 0.5\n",
        "### Best kernel was quartic with an MSE of 17.77"
      ],
      "metadata": {
        "id": "nl7Wcmumbkho"
      }
    },
    {
      "cell_type": "code",
      "source": [
        "kf = KFold(n_splits=10,shuffle=True,random_state=410)\n",
        "mse_tri_c4 = []\n",
        "mse_epa_c4 = []\n",
        "mse_quart_c4 = []"
      ],
      "metadata": {
        "id": "PZ5yUCr6bkho"
      },
      "execution_count": 52,
      "outputs": []
    },
    {
      "cell_type": "code",
      "source": [
        "for idxtrain, idxtest in kf.split(x_2):\n",
        "  y2train = y_2[idxtrain]\n",
        "  x2train = x_2[idxtrain]\n",
        "  x2train = scale.fit_transform(x2train.reshape(-1,1))\n",
        "  y2test = y_2[idxtest]\n",
        "  x2test = x_2[idxtest]\n",
        "  x2test = scale.transform(x2test.reshape(-1,1))\n",
        "  yhat_tri = lowess_reg(x2train.ravel(), y2train, x2test.ravel(), tricubic, 0.5)\n",
        "  yhat_epa = lowess_reg(x2train.ravel(), y2train, x2test.ravel(), Epanechnikov, 0.5)\n",
        "  yhat_quart = lowess_reg(x2train.ravel(), y2train, x2test.ravel(), Quartic, 0.5)\n",
        "  mse_tri_c4.append(mse(y2test,yhat_tri))\n",
        "  mse_epa_c4.append(mse(y2test,yhat_epa))\n",
        "  mse_quart_c4.append(mse(y2test,yhat_quart))\n",
        "print(\"The MSE for LOWESS with the tricubic kernel is: \" + str(np.mean(mse_tri_c4)))\n",
        "print(\"The MSE for LOWESS with the Epanechnikov kernel is: \" + str(np.mean(mse_epa_c4)))\n",
        "print(\"The MSE for LOWESS with the quartic kernel is: \" + str(np.mean(mse_quart_c4)))"
      ],
      "metadata": {
        "colab": {
          "base_uri": "https://localhost:8080/"
        },
        "id": "5H0-7SZkbkho",
        "outputId": "1d23519d-113f-47da-c1ad-5acc8803093f"
      },
      "execution_count": 53,
      "outputs": [
        {
          "output_type": "stream",
          "name": "stdout",
          "text": [
            "The MSE for LOWESS with the tricubic kernel is: 17.783657951947834\n",
            "The MSE for LOWESS with the Epanechnikov kernel is: 17.776868780634338\n",
            "The MSE for LOWESS with the quartic kernel is: 17.765601561138332\n"
          ]
        }
      ]
    },
    {
      "cell_type": "markdown",
      "source": [
        "Best result was quartic."
      ],
      "metadata": {
        "id": "TB6FNnC_k2zu"
      }
    },
    {
      "cell_type": "markdown",
      "source": [
        "## Testing Random Forests"
      ],
      "metadata": {
        "id": "EoylSACbbkho"
      }
    },
    {
      "cell_type": "code",
      "source": [
        "kf = KFold(n_splits=10,shuffle=True,random_state=410)\n",
        "mse_100_3 = []\n",
        "mse_100_5 = []\n",
        "mse_1000_3 = []\n",
        "mse_1000_5 = []"
      ],
      "metadata": {
        "id": "NdttGq9sbkho"
      },
      "execution_count": 54,
      "outputs": []
    },
    {
      "cell_type": "code",
      "source": [
        "for idxtrain,idxtest in kf.split(x_2):\n",
        "  y2train = y_2[idxtrain]\n",
        "  x2train = x_2[idxtrain]\n",
        "  x2train = scale.fit_transform(x2train.reshape(-1,1))\n",
        "  y2test = y_2[idxtest]\n",
        "  x2test = x_2[idxtest]\n",
        "  x2test = scale.transform(x2test.reshape(-1,1))\n",
        "  rf.fit(x2train,y2train)\n",
        "  rf2.fit(x2train,y2train)\n",
        "  rf3.fit(x2train,y2train)\n",
        "  rf4.fit(x2train,y2train)\n",
        "  yhat_rf_1003 = rf.predict(x2test)\n",
        "  yhat_rf_10003 = rf2.predict(x2test)\n",
        "  yhat_rf_10005 = rf3.predict(x2test)\n",
        "  yhat_rf_1005 = rf4.predict(x2test)\n",
        "  mse_100_3.append(mse(y2test,yhat_rf_1003))\n",
        "  mse_1000_3.append(mse(y2test,yhat_rf_10003))\n",
        "  mse_1000_5.append(mse(y2test,yhat_rf_10005))\n",
        "  mse_100_5.append(mse(y2test,yhat_rf_1005))\n",
        "print(\"The MSE for Random Forest with 100 trees and depth of 3: \" + str(np.mean(mse_100_3)))\n",
        "print(\"The MSE for Random Forest with 1000 trees and depth of 3: \" + str(np.mean(mse_1000_3)))\n",
        "print(\"The MSE for Random Forest with 100 trees and depth of 5: \" + str(np.mean(mse_100_5)))\n",
        "print(\"The MSE for Random Forest with 1000 trees and depth of 5: \" + str(np.mean(mse_1000_5)))"
      ],
      "metadata": {
        "colab": {
          "base_uri": "https://localhost:8080/"
        },
        "id": "LwC6QcQXbkho",
        "outputId": "1a251b3e-6267-4821-98f3-ad807c025610"
      },
      "execution_count": 55,
      "outputs": [
        {
          "output_type": "stream",
          "name": "stdout",
          "text": [
            "The MSE for Random Forest with 100 trees and depth of 3: 18.0448440598114\n",
            "The MSE for Random Forest with 1000 trees and depth of 3: 17.980882233098686\n",
            "The MSE for Random Forest with 100 trees and depth of 5: 19.036128319537333\n",
            "The MSE for Random Forest with 1000 trees and depth of 5: 19.10140763697413\n"
          ]
        }
      ]
    },
    {
      "cell_type": "markdown",
      "source": [
        "Best result was a forest of 1000 trees with a depth of 3."
      ],
      "metadata": {
        "id": "C32bNGRXleZY"
      }
    },
    {
      "cell_type": "markdown",
      "source": [
        "## Testing Kernel vs. Random Forest\n",
        "### Locally Weighted Regression won with an MSE of 26.60"
      ],
      "metadata": {
        "id": "ITB4Ro27bkho"
      }
    },
    {
      "cell_type": "code",
      "source": [
        "kf = KFold(n_splits=10,shuffle=True,random_state=410)\n",
        "mse_lwr = []\n",
        "mse_rf = []"
      ],
      "metadata": {
        "id": "A1VT_z-fbkho"
      },
      "execution_count": null,
      "outputs": []
    },
    {
      "cell_type": "code",
      "source": [
        "for idxtrain,idxtest in kf.split(x_2):\n",
        "  y2train = y_2[idxtrain]\n",
        "  x2train = x_2[idxtrain]\n",
        "  x2train = scale.fit_transform(x2train.reshape(-1,1))\n",
        "  y2test = y_2[idxtest]\n",
        "  x2test = x_2[idxtest]\n",
        "  x2test = scale.transform(x2test.reshape(-1,1))\n",
        "  yhat_lwr = lowess_reg(x2train.ravel(), y2train, x2test.ravel(), Quartic, 0.5)\n",
        "  rf2.fit(x2train,y2train)\n",
        "  yhat_rf = rf2.predict(x2test)\n",
        "  mse_lwr.append(mse(y2test,yhat_lwr))\n",
        "  mse_rf.append(mse(y2test,yhat_rf))\n",
        "print(\"The MSE for Random Forest is: \" + str(np.mean(mse_rf)))\n",
        "print(\"The MSE for Locally Weighted Regression is: \" + str(np.mean(mse_lwr)))"
      ],
      "metadata": {
        "colab": {
          "base_uri": "https://localhost:8080/"
        },
        "id": "pFno7o5Rbkho",
        "outputId": "9f5caf37-8079-4239-cd04-9e7e39360a03"
      },
      "execution_count": 57,
      "outputs": [
        {
          "output_type": "stream",
          "name": "stdout",
          "text": [
            "The MSE for Random Forest is: 26.929917260101142\n",
            "The MSE for Locally Weighted Regression is: 26.603107562928574\n"
          ]
        }
      ]
    },
    {
      "cell_type": "markdown",
      "source": [
        "## Plot"
      ],
      "metadata": {
        "id": "eV6QiBHYbkho"
      }
    },
    {
      "cell_type": "code",
      "source": [
        "xtrain, xtest, ytrain, ytest = tts(x_2.reshape(-1,1),y_2,test_size=0.25,random_state=123)"
      ],
      "metadata": {
        "id": "Iytoqj1rbkho"
      },
      "execution_count": 79,
      "outputs": []
    },
    {
      "cell_type": "code",
      "source": [
        "rf2.fit(xtrain,ytrain)\n",
        "yhat = rf2.predict(xtest)"
      ],
      "metadata": {
        "id": "8GntEYy0bkhp"
      },
      "execution_count": 80,
      "outputs": []
    },
    {
      "cell_type": "code",
      "source": [
        "M = np.column_stack([xtest,yhat])\n",
        "M = M[np.argsort(M[:,0])]"
      ],
      "metadata": {
        "id": "jdGvm5uxbkhp"
      },
      "execution_count": 81,
      "outputs": []
    },
    {
      "cell_type": "code",
      "source": [
        "ytrain = ytrain.reshape(len(ytrain),)\n",
        "ytest = ytest.reshape(len(ytest),)"
      ],
      "metadata": {
        "id": "0i9bBy3-bkhp"
      },
      "execution_count": 82,
      "outputs": []
    },
    {
      "cell_type": "code",
      "source": [
        "dat = np.concatenate([xtrain,ytrain.reshape(-1,1)], axis=1)\n",
        "\n",
        "dat = dat[np.argsort(dat[:, 0])]\n",
        "\n",
        "dat_test = np.concatenate([xtest,ytest.reshape(-1,1)], axis=1)\n",
        "dat_test = dat_test[np.argsort(dat_test[:, 0])]"
      ],
      "metadata": {
        "id": "l8tBE7Yubkhp"
      },
      "execution_count": 83,
      "outputs": []
    },
    {
      "cell_type": "code",
      "source": [
        "yhat_lowess = lowess_kern(dat[:,0],dat[:,1],Quartic,0.5)"
      ],
      "metadata": {
        "id": "SuCSF-N_bkhp"
      },
      "execution_count": 84,
      "outputs": []
    },
    {
      "cell_type": "code",
      "source": [
        "datc = np.concatenate([dat[:,0].reshape(-1,1),yhat_lowess.reshape(-1,1)], axis=1)"
      ],
      "metadata": {
        "id": "o1-wEVY4bkhp"
      },
      "execution_count": 85,
      "outputs": []
    },
    {
      "cell_type": "code",
      "source": [
        "f = interp1d(datc[:,0], datc[:,1],fill_value='extrapolate')\n",
        "\n",
        "yhat2 = f(dat_test[:,0])"
      ],
      "metadata": {
        "id": "GDuPOsV4bkhp"
      },
      "execution_count": 86,
      "outputs": []
    },
    {
      "cell_type": "code",
      "source": [
        "fig, ax = plt.subplots(figsize=(10,8))\n",
        "ax.set_xlim(1500, 5500)\n",
        "ax.set_ylim(7, 48)\n",
        "ax.scatter(x = cars_data['WGT'], y = cars_data['MPG'],s=25)\n",
        "ax.plot(dat_test[:,0], yhat2, color='orange',lw=3)\n",
        "ax.plot(M[:,0], M[:,1], color='yellow',lw=3)\n",
        "ax.set_xlabel('Weight (lbs.)',fontsize=16,color='Darkgreen')\n",
        "ax.set_ylabel('Mileage (Miles Per Gallon)',fontsize=16,color='Darkgreen')\n",
        "ax.set_title('Cars',fontsize=16,color='purple')\n",
        "ax.grid(b=True,which='major', color ='grey', linestyle='-', alpha=0.8)\n",
        "ax.grid(b=True,which='minor', color ='grey', linestyle='--', alpha=0.2)\n",
        "ax.minorticks_on()"
      ],
      "metadata": {
        "colab": {
          "base_uri": "https://localhost:8080/",
          "height": 520
        },
        "id": "8PUbGQ9Xbkhp",
        "outputId": "4444c297-7218-46a6-b542-e0105d52fa04"
      },
      "execution_count": 94,
      "outputs": [
        {
          "output_type": "display_data",
          "data": {
            "image/png": "[encoded data removed]",
            "text/plain": [
              "<Figure size 720x576 with 1 Axes>"
            ]
          },
          "metadata": {
            "needs_background": "light"
          }
        }
      ]
    },
    {
      "cell_type": "code",
      "source": [
        "# See if the xtest, ytest part is better\n",
        "plt.scatter(xtest,ytest,color='blue',alpha=0.5)\n",
        "plt.plot(M[:,0],M[:,1],color='red',lw=2)"
      ],
      "metadata": {
        "id": "fZans2DYbkhp"
      },
      "execution_count": null,
      "outputs": []
    },
    {
      "cell_type": "markdown",
      "source": [
        "# Walmart Sales Data"
      ],
      "metadata": {
        "id": "ciL_yK4rOH-N"
      }
    },
    {
      "cell_type": "code",
      "source": [
        "walmart_data = pd.read_csv(\"Walmart.csv\")"
      ],
      "metadata": {
        "id": "LpAledvrOFB5"
      },
      "execution_count": 111,
      "outputs": []
    },
    {
      "cell_type": "code",
      "source": [
        "x_3 = walmart_data[\"Weekly_Sales\"].values\n",
        "y_3 = walmart_data[\"Unemployment\"].values"
      ],
      "metadata": {
        "id": "RXWIRz92OJVV"
      },
      "execution_count": 112,
      "outputs": []
    },
    {
      "cell_type": "markdown",
      "source": [
        "## Testing Kernels, tau = 0.01\n",
        "### Best kernel was Epanechnikov with an MSE of 3.34"
      ],
      "metadata": {
        "id": "WrzXvaUvUK0z"
      }
    },
    {
      "cell_type": "code",
      "source": [
        "kf = KFold(n_splits=10,shuffle=True,random_state=410)\n",
        "mse_tri_w1 = []\n",
        "mse_epa_w1 = []\n",
        "mse_quart_w1 = []"
      ],
      "metadata": {
        "id": "zlgeZlpPUHVD"
      },
      "execution_count": 113,
      "outputs": []
    },
    {
      "cell_type": "code",
      "source": [
        "for idxtrain, idxtest in kf.split(x_3):\n",
        "  y3train = y_3[idxtrain]\n",
        "  x3train = x_3[idxtrain]\n",
        "  x3train = scale.fit_transform(x3train.reshape(-1,1))\n",
        "  y3test = y_3[idxtest]\n",
        "  x3test = x_3[idxtest]\n",
        "  x3test = scale.transform(x3test.reshape(-1,1))\n",
        "  yhat_tri = lowess_reg(x3train.ravel(), y3train, x3test.ravel(), tricubic, 0.01)\n",
        "  yhat_epa = lowess_reg(x3train.ravel(), y3train, x3test.ravel(), Epanechnikov, 0.01)\n",
        "  yhat_quart = lowess_reg(x3train.ravel(), y3train, x3test.ravel(), Quartic, 0.01)\n",
        "  mse_tri_w1.append(mse(y3test,yhat_tri))\n",
        "  mse_epa_w1.append(mse(y3test,yhat_epa))\n",
        "  mse_quart_w1.append(mse(y3test,yhat_quart))\n",
        "print(\"The MSE for LOWESS with the tricubic kernel is: \" + str(np.mean(mse_tri_w1)))\n",
        "print(\"The MSE for LOWESS with the Epanechnikov kernel is: \" + str(np.mean(mse_epa_w1)))\n",
        "print(\"The MSE for LOWESS with the quartic kernel is: \" + str(np.mean(mse_quart_w1)))"
      ],
      "metadata": {
        "colab": {
          "base_uri": "https://localhost:8080/"
        },
        "id": "bNupDhZxUeoO",
        "outputId": "a84eda6a-6e2c-4e95-98dd-f22c38d0417e"
      },
      "execution_count": 114,
      "outputs": [
        {
          "output_type": "stream",
          "name": "stdout",
          "text": [
            "The MSE for LOWESS with the tricubic kernel is: 3.3524118854786735\n",
            "The MSE for LOWESS with the Epanechnikov kernel is: 3.341048269327338\n",
            "The MSE for LOWESS with the quartic kernel is: 3.3529532126779413\n"
          ]
        }
      ]
    },
    {
      "cell_type": "markdown",
      "source": [
        "Best result was Epanechnikov."
      ],
      "metadata": {
        "id": "DM0m9TWooamI"
      }
    },
    {
      "cell_type": "markdown",
      "source": [
        "## Testing Kernels, tau = 0.05\n",
        "### Best kernel was quartic with an MSE of 3.315"
      ],
      "metadata": {
        "id": "dYtPbVT2Vxw5"
      }
    },
    {
      "cell_type": "code",
      "source": [
        "kf = KFold(n_splits=10,shuffle=True,random_state=410)\n",
        "mse_tri_w2 = []\n",
        "mse_epa_w2 = []\n",
        "mse_quart_w2 = []"
      ],
      "metadata": {
        "id": "JbTRTeTEV1Rf"
      },
      "execution_count": 120,
      "outputs": []
    },
    {
      "cell_type": "code",
      "source": [
        "for idxtrain, idxtest in kf.split(x_3):\n",
        "  y3train = y_3[idxtrain]\n",
        "  x3train = x_3[idxtrain]\n",
        "  x3train = scale.fit_transform(x3train.reshape(-1,1))\n",
        "  y3test = y_3[idxtest]\n",
        "  x3test = x_3[idxtest]\n",
        "  x3test = scale.transform(x3test.reshape(-1,1))\n",
        "  yhat_tri = lowess_reg(x3train.ravel(), y3train, x3test.ravel(), tricubic, 0.05)\n",
        "  yhat_epa = lowess_reg(x3train.ravel(), y3train, x3test.ravel(), Epanechnikov, 0.05)\n",
        "  yhat_quart = lowess_reg(x3train.ravel(), y3train, x3test.ravel(), Quartic, 0.05)\n",
        "  mse_tri_w2.append(mse(y3test,yhat_tri))\n",
        "  mse_epa_w2.append(mse(y3test,yhat_epa))\n",
        "  mse_quart_w2.append(mse(y3test,yhat_quart))\n",
        "print(\"The MSE for LOWESS with the tricubic kernel is: \" + str(np.mean(mse_tri_w2)))\n",
        "print(\"The MSE for LOWESS with the Epanechnikov kernel is: \" + str(np.mean(mse_epa_w2)))\n",
        "print(\"The MSE for LOWESS with the quartic kernel is: \" + str(np.mean(mse_quart_w2)))"
      ],
      "metadata": {
        "colab": {
          "base_uri": "https://localhost:8080/"
        },
        "id": "gJNeRyVFWfTa",
        "outputId": "11abfe55-a12e-4b7e-ffdb-ce2f2aa2594f"
      },
      "execution_count": 121,
      "outputs": [
        {
          "output_type": "stream",
          "name": "stdout",
          "text": [
            "The MSE for LOWESS with the tricubic kernel is: 3.316125853540845\n",
            "The MSE for LOWESS with the Epanechnikov kernel is: 3.3212195767032773\n",
            "The MSE for LOWESS with the quartic kernel is: 3.315280342725468\n"
          ]
        }
      ]
    },
    {
      "cell_type": "markdown",
      "source": [
        "Best result was quartic."
      ],
      "metadata": {
        "id": "LpWbe4_dpIFD"
      }
    },
    {
      "cell_type": "markdown",
      "source": [
        "## Testing Kernels, tau = 0.1\n",
        "### Best kernel was quartic with an MSE of 3.345"
      ],
      "metadata": {
        "id": "2N1DGBs5Vzy-"
      }
    },
    {
      "cell_type": "code",
      "source": [
        "kf = KFold(n_splits=10,shuffle=True,random_state=410)\n",
        "mse_tri_w3 = []\n",
        "mse_epa_w3 = []\n",
        "mse_quart_w3 = []"
      ],
      "metadata": {
        "id": "xmSH9R1hV10I"
      },
      "execution_count": 122,
      "outputs": []
    },
    {
      "cell_type": "code",
      "source": [
        "for idxtrain, idxtest in kf.split(x_3):\n",
        "  y3train = y_3[idxtrain]\n",
        "  x3train = x_3[idxtrain]\n",
        "  x3train = scale.fit_transform(x3train.reshape(-1,1))\n",
        "  y3test = y_3[idxtest]\n",
        "  x3test = x_3[idxtest]\n",
        "  x3test = scale.transform(x3test.reshape(-1,1))\n",
        "  yhat_tri = lowess_reg(x3train.ravel(), y3train, x3test.ravel(), tricubic, 0.1)\n",
        "  yhat_epa = lowess_reg(x3train.ravel(), y3train, x3test.ravel(), Epanechnikov, 0.1)\n",
        "  yhat_quart = lowess_reg(x3train.ravel(), y3train, x3test.ravel(), Quartic, 0.1)\n",
        "  mse_tri_w3.append(mse(y3test,yhat_tri))\n",
        "  mse_epa_w3.append(mse(y3test,yhat_epa))\n",
        "  mse_quart_w3.append(mse(y3test,yhat_quart))\n",
        "print(\"The MSE for LOWESS with the tricubic kernel is: \" + str(np.mean(mse_tri_w3)))\n",
        "print(\"The MSE for LOWESS with the Epanechnikov kernel is: \" + str(np.mean(mse_epa_w3)))\n",
        "print(\"The MSE for LOWESS with the quartic kernel is: \" + str(np.mean(mse_quart_w3)))"
      ],
      "metadata": {
        "colab": {
          "base_uri": "https://localhost:8080/"
        },
        "id": "yVoLmGjCWnOB",
        "outputId": "1cdc28da-84e2-43ee-b6b6-2be6b2b6911c"
      },
      "execution_count": 123,
      "outputs": [
        {
          "output_type": "stream",
          "name": "stdout",
          "text": [
            "The MSE for LOWESS with the tricubic kernel is: 3.3493754937114226\n",
            "The MSE for LOWESS with the Epanechnikov kernel is: 3.361755271956798\n",
            "The MSE for LOWESS with the quartic kernel is: 3.3454153879366153\n"
          ]
        }
      ]
    },
    {
      "cell_type": "markdown",
      "source": [
        "Best result was quartic."
      ],
      "metadata": {
        "id": "ajoKKzQRpNMl"
      }
    },
    {
      "cell_type": "markdown",
      "source": [
        "## Testing Kernels, tau = 0.5\n",
        "### Best kernel was quartic with an MSE of 3.44"
      ],
      "metadata": {
        "id": "Sfrbe8pNV2F5"
      }
    },
    {
      "cell_type": "code",
      "source": [
        "kf = KFold(n_splits=10,shuffle=True,random_state=410)\n",
        "mse_tri_w4 = []\n",
        "mse_epa_w4 = []\n",
        "mse_quart_w4 = []"
      ],
      "metadata": {
        "id": "yk1fvLaVV4M2"
      },
      "execution_count": 124,
      "outputs": []
    },
    {
      "cell_type": "code",
      "source": [
        "for idxtrain, idxtest in kf.split(x_3):\n",
        "  y3train = y_3[idxtrain]\n",
        "  x3train = x_3[idxtrain]\n",
        "  x3train = scale.fit_transform(x3train.reshape(-1,1))\n",
        "  y3test = y_3[idxtest]\n",
        "  x3test = x_3[idxtest]\n",
        "  x3test = scale.transform(x3test.reshape(-1,1))\n",
        "  yhat_tri = lowess_reg(x3train.ravel(), y3train, x3test.ravel(), tricubic, 0.5)\n",
        "  yhat_epa = lowess_reg(x3train.ravel(), y3train, x3test.ravel(), Epanechnikov, 0.5)\n",
        "  yhat_quart = lowess_reg(x3train.ravel(), y3train, x3test.ravel(), Quartic, 0.5)\n",
        "  mse_tri_w4.append(mse(y3test,yhat_tri))\n",
        "  mse_epa_w4.append(mse(y3test,yhat_epa))\n",
        "  mse_quart_w4.append(mse(y3test,yhat_quart))\n",
        "print(\"The MSE for LOWESS with the tricubic kernel is: \" + str(np.mean(mse_tri_w4)))\n",
        "print(\"The MSE for LOWESS with the Epanechnikov kernel is: \" + str(np.mean(mse_epa_w4)))\n",
        "print(\"The MSE for LOWESS with the quartic kernel is: \" + str(np.mean(mse_quart_w4)))"
      ],
      "metadata": {
        "colab": {
          "base_uri": "https://localhost:8080/"
        },
        "id": "H56Fb1CXWnoD",
        "outputId": "74f32297-f22d-49d0-a2b2-b8260ba9cc68"
      },
      "execution_count": 125,
      "outputs": [
        {
          "output_type": "stream",
          "name": "stdout",
          "text": [
            "The MSE for LOWESS with the tricubic kernel is: 3.446431960531153\n",
            "The MSE for LOWESS with the Epanechnikov kernel is: 3.4533488244123918\n",
            "The MSE for LOWESS with the quartic kernel is: 3.4419039724403033\n"
          ]
        }
      ]
    },
    {
      "cell_type": "markdown",
      "source": [
        "Best result was quartic."
      ],
      "metadata": {
        "id": "So-EMIw2pS4E"
      }
    },
    {
      "cell_type": "markdown",
      "source": [
        "## Testing Random Forests"
      ],
      "metadata": {
        "id": "b79dP4GzW5tR"
      }
    },
    {
      "cell_type": "code",
      "source": [
        "kf = KFold(n_splits=10,shuffle=True,random_state=410)\n",
        "mse_100_3 = []\n",
        "mse_100_5 = []\n",
        "mse_1000_3 = []\n",
        "mse_1000_5 = []"
      ],
      "metadata": {
        "id": "gS_PcSW2W9h7"
      },
      "execution_count": 107,
      "outputs": []
    },
    {
      "cell_type": "code",
      "source": [
        "for idxtrain,idxtest in kf.split(x_3):\n",
        "  y3train = y_3[idxtrain]\n",
        "  x3train = x_3[idxtrain]\n",
        "  x3train = scale.fit_transform(x3train.reshape(-1,1))\n",
        "  y3test = y_3[idxtest]\n",
        "  x3test = x_3[idxtest]\n",
        "  x3test = scale.transform(x3test.reshape(-1,1))\n",
        "  rf.fit(x3train,y3train)\n",
        "  rf2.fit(x3train,y3train)\n",
        "  rf3.fit(x3train,y3train)\n",
        "  rf4.fit(x3train,y3train)\n",
        "  yhat_rf_1003 = rf.predict(x3test)\n",
        "  yhat_rf_10003 = rf2.predict(x3test)\n",
        "  yhat_rf_10005 = rf3.predict(x3test)\n",
        "  yhat_rf_1005 = rf4.predict(x3test)\n",
        "  mse_100_3.append(mse(y3test,yhat_rf_1003))\n",
        "  mse_1000_3.append(mse(y3test,yhat_rf_10003))\n",
        "  mse_1000_5.append(mse(y3test,yhat_rf_10005))\n",
        "  mse_100_5.append(mse(y3test,yhat_rf_1005))\n",
        "print(\"The MSE for Random Forest with 100 trees and depth of 3: \" + str(np.mean(mse_100_3)))\n",
        "print(\"The MSE for Random Forest with 1000 trees and depth of 3: \" + str(np.mean(mse_1000_3)))\n",
        "print(\"The MSE for Random Forest with 100 trees and depth of 5: \" + str(np.mean(mse_100_5)))\n",
        "print(\"The MSE for Random Forest with 1000 trees and depth of 5: \" + str(np.mean(mse_1000_5)))"
      ],
      "metadata": {
        "colab": {
          "base_uri": "https://localhost:8080/"
        },
        "id": "VQPId9VfXmbw",
        "outputId": "ec332b21-a1bd-4cb9-c2d4-a6b470301445"
      },
      "execution_count": 108,
      "outputs": [
        {
          "output_type": "stream",
          "name": "stdout",
          "text": [
            "The MSE for Random Forest with 100 trees and depth of 3: 3.3374221213974926\n",
            "The MSE for Random Forest with 1000 trees and depth of 3: 3.3391788076451734\n",
            "The MSE for Random Forest with 100 trees and depth of 5: 3.3154203306077377\n",
            "The MSE for Random Forest with 1000 trees and depth of 5: 3.3134753302710527\n"
          ]
        }
      ]
    },
    {
      "cell_type": "markdown",
      "source": [
        "Best result was a forest of 1000 trees with a depth of 5."
      ],
      "metadata": {
        "id": "k_PFG8OmpiZR"
      }
    },
    {
      "cell_type": "markdown",
      "source": [
        "## Testing Kernel vs. Random Forest\n",
        "### Random Forest Regression won with an MSE of 3.31"
      ],
      "metadata": {
        "id": "-ugORZ9DZY-l"
      }
    },
    {
      "cell_type": "code",
      "source": [
        "kf = KFold(n_splits=10,shuffle=True,random_state=410)\n",
        "mse_lwr = []\n",
        "mse_rf = []"
      ],
      "metadata": {
        "id": "Qx69RaqZZYjt"
      },
      "execution_count": 127,
      "outputs": []
    },
    {
      "cell_type": "code",
      "source": [
        "for idxtrain,idxtest in kf.split(x_3):\n",
        "  y3train = y_3[idxtrain]\n",
        "  x3train = x_3[idxtrain]\n",
        "  x3train = scale.fit_transform(x3train.reshape(-1,1))\n",
        "  y3test = y_3[idxtest]\n",
        "  x3test = x_3[idxtest]\n",
        "  x3test = scale.transform(x3test.reshape(-1,1))\n",
        "  yhat_lwr = lowess_reg(x3train.ravel(), y3train, x3test.ravel(), Quartic, 0.05)\n",
        "  rf3.fit(x3train,y3train)\n",
        "  yhat_rf = rf3.predict(x3test)\n",
        "  mse_lwr.append(mse(y3test,yhat_lwr))\n",
        "  mse_rf.append(mse(y3test,yhat_rf))\n",
        "print(\"The MSE for Random Forest is: \" + str(np.mean(mse_rf)))\n",
        "print(\"The MSE for Locally Weighted Regression is: \" + str(np.mean(mse_lwr)))"
      ],
      "metadata": {
        "colab": {
          "base_uri": "https://localhost:8080/"
        },
        "id": "UaTxDSAWZgne",
        "outputId": "6e13ec40-9c94-4d35-f771-a458dd1cc00e"
      },
      "execution_count": 128,
      "outputs": [
        {
          "output_type": "stream",
          "name": "stdout",
          "text": [
            "The MSE for Random Forest is: 3.3134753302710527\n",
            "The MSE for Locally Weighted Regression is: 3.315280342725468\n"
          ]
        }
      ]
    },
    {
      "cell_type": "markdown",
      "source": [
        "Best result was Random Forest."
      ],
      "metadata": {
        "id": "m_WAGeFgpqnx"
      }
    },
    {
      "cell_type": "markdown",
      "source": [
        "## Plot"
      ],
      "metadata": {
        "id": "Exo6toQDZ4_N"
      }
    },
    {
      "cell_type": "code",
      "source": [
        "xtrain, xtest, ytrain, ytest = tts(x_3.reshape(-1,1),y_3,test_size=0.25,random_state=123)"
      ],
      "metadata": {
        "id": "e4gbtb_kZ5m_"
      },
      "execution_count": 165,
      "outputs": []
    },
    {
      "cell_type": "code",
      "source": [
        "rf3.fit(xtrain,ytrain)"
      ],
      "metadata": {
        "colab": {
          "base_uri": "https://localhost:8080/"
        },
        "id": "qZjFNO6g--us",
        "outputId": "252beda2-91dc-4e34-ec1d-26510389780e"
      },
      "execution_count": 166,
      "outputs": [
        {
          "output_type": "execute_result",
          "data": {
            "text/plain": [
              "RandomForestRegressor(max_depth=5, n_estimators=1000, random_state=123)"
            ]
          },
          "metadata": {},
          "execution_count": 166
        }
      ]
    },
    {
      "cell_type": "code",
      "source": [
        "yhat = rf3.predict(xtest)"
      ],
      "metadata": {
        "id": "IcY5OhOtaDHh"
      },
      "execution_count": 167,
      "outputs": []
    },
    {
      "cell_type": "code",
      "source": [
        "M = np.column_stack([xtest,yhat])\n",
        "M = M[np.argsort(M[:,0])]"
      ],
      "metadata": {
        "id": "ZW8Y_C8baOje"
      },
      "execution_count": 168,
      "outputs": []
    },
    {
      "cell_type": "code",
      "source": [
        "ytrain = ytrain.reshape(len(ytrain),)\n",
        "ytest = ytest.reshape(len(ytest),)"
      ],
      "metadata": {
        "id": "DAbM6FGYagjv"
      },
      "execution_count": 169,
      "outputs": []
    },
    {
      "cell_type": "code",
      "source": [
        "dat = np.concatenate([xtrain,ytrain.reshape(-1,1)], axis=1)\n",
        "\n",
        "dat = dat[np.argsort(dat[:, 0])]\n",
        "\n",
        "dat_test = np.concatenate([xtest,ytest.reshape(-1,1)], axis=1)\n",
        "dat_test = dat_test[np.argsort(dat_test[:, 0])]"
      ],
      "metadata": {
        "id": "sUlqFbI4ajZL"
      },
      "execution_count": 170,
      "outputs": []
    },
    {
      "cell_type": "code",
      "source": [
        "yhat_lowess = lowess_kern(dat[:,0],dat[:,1],Quartic,0.05)"
      ],
      "metadata": {
        "id": "d7BuoIG2aocQ"
      },
      "execution_count": 171,
      "outputs": []
    },
    {
      "cell_type": "code",
      "source": [
        "datw = np.concatenate([dat[:,0].reshape(-1,1),yhat_lowess.reshape(-1,1)], axis=1)"
      ],
      "metadata": {
        "id": "byH8fUcyau1e"
      },
      "execution_count": 172,
      "outputs": []
    },
    {
      "cell_type": "code",
      "source": [
        "f = interp1d(datw[:,0], datw[:,1],fill_value='extrapolate')\n",
        "\n",
        "yhat2 = f(dat_test[:,0])"
      ],
      "metadata": {
        "id": "yusThrZAaxLH"
      },
      "execution_count": 173,
      "outputs": []
    },
    {
      "cell_type": "code",
      "source": [
        "fig, ax = plt.subplots(figsize=(10,8))\n",
        "ax.set_xlim(75000, 4000000)\n",
        "ax.set_ylim(0, 15)\n",
        "ax.scatter(x = walmart_data['Weekly_Sales'], y = walmart_data['Unemployment'],s=25)\n",
        "ax.plot(dat_test[:,0], yhat2, color='orange',lw=3)\n",
        "ax.plot(M[:,0], M[:,1], color='yellow',lw=3)\n",
        "ax.set_xlabel('Weekly Sales ($)',fontsize=16,color='Darkgreen')\n",
        "ax.set_ylabel('Unemployment Rate (% of Working-Age Population)',fontsize=16,color='Darkgreen')\n",
        "ax.set_title('Walmart Sales',fontsize=16,color='purple')\n",
        "ax.grid(b=True,which='major', color ='grey', linestyle='-', alpha=0.8)\n",
        "ax.grid(b=True,which='minor', color ='grey', linestyle='--', alpha=0.2)\n",
        "ax.minorticks_on()"
      ],
      "metadata": {
        "colab": {
          "base_uri": "https://localhost:8080/",
          "height": 520
        },
        "id": "NebRNuKWa4Ja",
        "outputId": "14be4445-5fc5-435a-bcad-2f9526ddf655"
      },
      "execution_count": 174,
      "outputs": [
        {
          "output_type": "display_data",
          "data": {
            "image/png": "[encoded data removed]",
            "text/plain": [
              "<Figure size 720x576 with 1 Axes>"
            ]
          },
          "metadata": {
            "needs_background": "light"
          }
        }
      ]
    }
  ]
}